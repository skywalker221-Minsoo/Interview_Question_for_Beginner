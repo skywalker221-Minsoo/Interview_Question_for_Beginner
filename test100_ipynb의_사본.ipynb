{
  "nbformat": 4,
  "nbformat_minor": 0,
  "metadata": {
    "colab": {
      "name": "test100.ipynb의 사본",
      "provenance": [],
      "authorship_tag": "ABX9TyM56USk3nxAJ1pao0JT0eft",
      "include_colab_link": true
    },
    "kernelspec": {
      "name": "python3",
      "display_name": "Python 3"
    },
    "language_info": {
      "name": "python"
    }
  },
  "cells": [
    {
      "cell_type": "markdown",
      "metadata": {
        "id": "view-in-github",
        "colab_type": "text"
      },
      "source": [
        "<a href=\"https://colab.research.google.com/github/skywalker221-Minsoo/Interview_Question_for_Beginner/blob/master/test100_ipynb%EC%9D%98_%EC%82%AC%EB%B3%B8.ipynb\" target=\"_parent\"><img src=\"https://colab.research.google.com/assets/colab-badge.svg\" alt=\"Open In Colab\"/></a>"
      ]
    },
    {
      "cell_type": "code",
      "metadata": {
        "colab": {
          "base_uri": "https://localhost:8080/"
        },
        "id": "XBwbc4Nbbq5w",
        "outputId": "40a876b6-63c7-43c2-9619-27a24ca8b21d"
      },
      "source": [
        "print('나는 Git으로 갈거야.')"
      ],
      "execution_count": null,
      "outputs": [
        {
          "output_type": "stream",
          "text": [
            "나는 Git으로 갈거야.\n"
          ],
          "name": "stdout"
        }
      ]
    }
  ]
}